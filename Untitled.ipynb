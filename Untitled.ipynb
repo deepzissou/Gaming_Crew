{
 "cells": [
  {
   "cell_type": "code",
   "execution_count": 15,
   "id": "7f3178d9-b9ef-4f0b-8b99-553bc10bf872",
   "metadata": {},
   "outputs": [],
   "source": [
    "import json\n",
    "import requests\n",
    "import pandas as pd \n",
    "api_key = '4782315b07c146e6bfbdecb55947a69f'\n",
    "from pprint import pprint\n"
   ]
  },
  {
   "cell_type": "code",
   "execution_count": 16,
   "id": "00ccd17b-e591-49be-96dd-dbcb26868399",
   "metadata": {},
   "outputs": [],
   "source": [
    "url = 'https://rawg.io/apidocs'"
   ]
  },
  {
   "cell_type": "code",
   "execution_count": 18,
   "id": "5fc6a674-5e8a-41f0-8f1d-4116c32b6988",
   "metadata": {},
   "outputs": [
    {
     "data": {
      "text/plain": [
       "'https://rawg.io/apidocsapi_key&q=genres'"
      ]
     },
     "execution_count": 18,
     "metadata": {},
     "output_type": "execute_result"
    }
   ],
   "source": [
    "#type = \"genre\"\n",
    "#platforms = \"platforms\"\n",
    "\n",
    "#query_url = f\"{url}appid={api_key}&q={type}&q={platforms}\"\n",
    "#gaming_response = requests.get(query_url).json()\n",
    "#response = gaming_response[1]\n",
    "query = \"genres\"\n",
    "\n",
    "query_url = url + \"api_key\" + \"&q=\" + query\n",
    "query_url"
   ]
  },
  {
   "cell_type": "code",
   "execution_count": null,
   "id": "3da30222-76b1-4646-b44f-009245293fe9",
   "metadata": {},
   "outputs": [],
   "source": []
  },
  {
   "cell_type": "code",
   "execution_count": null,
   "id": "328a06e6-b34d-48e0-8bc3-5042a79d2b0a",
   "metadata": {},
   "outputs": [],
   "source": []
  }
 ],
 "metadata": {
  "kernelspec": {
   "display_name": "Python [conda env:pythondata]",
   "language": "python",
   "name": "conda-env-pythondata-py"
  },
  "language_info": {
   "codemirror_mode": {
    "name": "ipython",
    "version": 3
   },
   "file_extension": ".py",
   "mimetype": "text/x-python",
   "name": "python",
   "nbconvert_exporter": "python",
   "pygments_lexer": "ipython3",
   "version": "3.6.10"
  }
 },
 "nbformat": 4,
 "nbformat_minor": 5
}
